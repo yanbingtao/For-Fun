{
 "cells": [
  {
   "cell_type": "markdown",
   "metadata": {},
   "source": [
    "1. numpy\n",
    "2. pandas\n",
    "3. matplotlib"
   ]
  },
  {
   "cell_type": "code",
   "execution_count": 5,
   "metadata": {},
   "outputs": [
    {
     "name": "stdout",
     "output_type": "stream",
     "text": [
      "<class 'numpy.ndarray'>\n"
     ]
    },
    {
     "data": {
      "text/plain": [
       "array([[3.14, 3.14],\n",
       "       [3.14, 3.14],\n",
       "       [3.14, 3.14]])"
      ]
     },
     "execution_count": 5,
     "metadata": {},
     "output_type": "execute_result"
    }
   ],
   "source": [
    "#numpy\n",
    "import numpy as np\n",
    "\n",
    "#from list to numpy\n",
    "a_list=list(range(10))\n",
    "b=np.array(a_list)\n",
    "\n",
    "# generate array\n",
    "a = np.zeros(10)\n",
    "print(type(a))\n",
    "\n",
    "# generate int array\n",
    "a = np.zeros(10, dtype=int)\n",
    "a.dtype\n",
    "\n",
    "# generate 2D array\n",
    "a = np.zeros((4,3), dtype=float) #4 rows*3 cols\n",
    "\n",
    "# generate 2D array with \"3.14\"\n",
    "a = np.full((3,2), 3.14)  # 3 rows*2 cols with value 3.14\n",
    "\n",
    "# based on an array, generate anotehr one\n",
    "np.full_like(a,4.12, dtype=float)   # based on a, change value to 4.12\n",
    "\n",
    "#np.random\n",
    "np.random.random()   # generate a random num\n",
    "np.random.random((3,3))   # generate a 3*3 array random num \n",
    "np.random.randint(0,10,(5,5)) # generate a 5*% array random num between 0 ~10\n"
   ]
  },
  {
   "cell_type": "code",
   "execution_count": null,
   "metadata": {},
   "outputs": [],
   "source": []
  }
 ],
 "metadata": {
  "kernelspec": {
   "display_name": "Python 3",
   "language": "python",
   "name": "python3"
  },
  "language_info": {
   "codemirror_mode": {
    "name": "ipython",
    "version": 3
   },
   "file_extension": ".py",
   "mimetype": "text/x-python",
   "name": "python",
   "nbconvert_exporter": "python",
   "pygments_lexer": "ipython3",
   "version": "3.7.6"
  },
  "toc": {
   "base_numbering": 1,
   "nav_menu": {},
   "number_sections": true,
   "sideBar": true,
   "skip_h1_title": false,
   "title_cell": "Table of Contents",
   "title_sidebar": "Contents",
   "toc_cell": false,
   "toc_position": {},
   "toc_section_display": true,
   "toc_window_display": false
  }
 },
 "nbformat": 4,
 "nbformat_minor": 4
}
