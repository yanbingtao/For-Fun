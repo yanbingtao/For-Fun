{
 "cells": [
  {
   "cell_type": "markdown",
   "metadata": {},
   "source": [
    "# Library required:\n",
    "\n",
    "1. requests  # for retrive information from website\n",
    "2. BeautifulSoup"
   ]
  },
  {
   "cell_type": "markdown",
   "metadata": {},
   "source": [
    "# Installation:\n",
    "pip install requests\n",
    "\n",
    "pip install bs4\n"
   ]
  },
  {
   "cell_type": "code",
   "execution_count": 6,
   "metadata": {},
   "outputs": [],
   "source": [
    "import requests\n",
    "from bs4 import BeautifulSoup"
   ]
  },
  {
   "cell_type": "code",
   "execution_count": 7,
   "metadata": {},
   "outputs": [],
   "source": [
    "def get_page(url):\n",
    "    responce = requests.get(url)\n",
    "    soup = BeautifulSoup(responce.text, 'lxml')\n",
    "    return soup"
   ]
  },
  {
   "cell_type": "code",
   "execution_count": 8,
   "metadata": {},
   "outputs": [],
   "source": [
    "def get_links(link_url):\n",
    "    soup = get_page(link_url)\n",
    "    # find the elements we want based on soup\n",
    "    links_div = soup.find_all('div', class_=\"content__list--item--main\")\n",
    "    links = [link_url[0:22] + div.a.get('href') for div in links_div]\n",
    "    return links"
   ]
  },
  {
   "cell_type": "code",
   "execution_count": 9,
   "metadata": {},
   "outputs": [
    {
     "data": {
      "text/plain": [
       "['https://bj.lianjia.com/zufang/BJ2549081322589265920.html',\n",
       " 'https://bj.lianjia.com/zufang/BJ2547093685166940160.html',\n",
       " 'https://bj.lianjia.com/zufang/BJ2548421843480477696.html',\n",
       " 'https://bj.lianjia.com/zufang/BJ2548312076959891456.html',\n",
       " 'https://bj.lianjia.com/zufang/BJ2549187822695759872.html',\n",
       " 'https://bj.lianjia.com/zufang/BJ2548333786534789120.html',\n",
       " 'https://bj.lianjia.com/zufang/BJ2549162494677753856.html',\n",
       " 'https://bj.lianjia.com/zufang/BJ2547642562332860416.html',\n",
       " 'https://bj.lianjia.com/zufang/BJ2548313019755544576.html',\n",
       " 'https://bj.lianjia.com/zufang/BJ2549158218467115008.html',\n",
       " 'https://bj.lianjia.com/zufang/BJ2547873564372516864.html',\n",
       " 'https://bj.lianjia.com/zufang/BJ2548351695692234752.html',\n",
       " 'https://bj.lianjia.com/zufang/BJ2547636078727135232.html',\n",
       " 'https://bj.lianjia.com/zufang/BJ2547622341627101184.html',\n",
       " 'https://bj.lianjia.com/zufang/BJ2548353114969481216.html',\n",
       " 'https://bj.lianjia.com/zufang/BJ2547780482918260736.html',\n",
       " 'https://bj.lianjia.com/zufang/BJ2549211590901899264.html',\n",
       " 'https://bj.lianjia.com/zufang/BJ2548358167461363712.html',\n",
       " 'https://bj.lianjia.com/zufang/BJ2547609541424988160.html',\n",
       " 'https://bj.lianjia.com/zufang/BJ2548488159973613568.html',\n",
       " 'https://bj.lianjia.com/zufang/BJ2544840473743196160.html',\n",
       " 'https://bj.lianjia.com/zufang/BJ2544803803035598848.html',\n",
       " 'https://bj.lianjia.com/zufang/BJ2544939353931784192.html',\n",
       " 'https://bj.lianjia.com/zufang/BJ2545440756525973504.html',\n",
       " 'https://bj.lianjia.com/zufang/BJ2547634269203996672.html',\n",
       " 'https://bj.lianjia.com/zufang/BJ2548524375347298304.html',\n",
       " 'https://bj.lianjia.com/zufang/BJ2549115793392533504.html',\n",
       " 'https://bj.lianjia.com/zufang/BJ2549062528332472320.html',\n",
       " 'https://bj.lianjia.com/zufang/BJ2534683238711173120.html',\n",
       " 'https://bj.lianjia.com/zufang/BJ2539301805947355136.html']"
      ]
     },
     "execution_count": 9,
     "metadata": {},
     "output_type": "execute_result"
    }
   ],
   "source": [
    "# test\n",
    "url = 'https://bj.lianjia.com/zufang/'\n",
    "get_links(url)"
   ]
  },
  {
   "cell_type": "code",
   "execution_count": 48,
   "metadata": {},
   "outputs": [],
   "source": [
    "def get_house_info(house_url):\n",
    "    soup = get_page(house_url)\n",
    "    price = soup.find('div', class_='content__aside--title').find('span').text\n",
    "    unit = soup.find('div', class_='content__aside--title').text[len(price)+1:len(price)+4]\n",
    "    house_info=soup.find_all('li', class_=\"fl oneline\")\n",
    "    house_info=soup.find_all('li', class_=\"fl oneline\")\n",
    "    area=house_info[1].text[3:]\n",
    "    info = {\n",
    "        'Price': price,\n",
    "        'Unit': unit,\n",
    "        'Area': area\n",
    "    }\n",
    "    return info\n",
    "\n",
    "def saveData(datalist):\n",
    "    print(\"save...\")\n",
    "    data = []\n",
    "    for k in range(0, len(datalist)):\n",
    "        data.append(datalist[k])\n",
    "        \n",
    "    data=currentRow.split(\",\")\n",
    "    df = pd.DataFrame(\n",
    "        {'Price': data[0], 'Unit': data[1], 'Area': data[2]})\n",
    "    df.to_csv('House.csv', index=False, sep=',')"
   ]
  },
  {
   "cell_type": "code",
   "execution_count": 50,
   "metadata": {},
   "outputs": [
    {
     "data": {
      "text/plain": [
       "3"
      ]
     },
     "execution_count": 50,
     "metadata": {},
     "output_type": "execute_result"
    }
   ],
   "source": [
    "# test\n",
    "url=\"https://bj.lianjia.com/zufang/BJ2549081322589265920.html\"\n",
    "\n",
    "len(get_house_info(url))\n"
   ]
  }
 ],
 "metadata": {
  "kernelspec": {
   "display_name": "Python 3",
   "language": "python",
   "name": "python3"
  },
  "language_info": {
   "codemirror_mode": {
    "name": "ipython",
    "version": 3
   },
   "file_extension": ".py",
   "mimetype": "text/x-python",
   "name": "python",
   "nbconvert_exporter": "python",
   "pygments_lexer": "ipython3",
   "version": "3.7.6"
  },
  "toc": {
   "base_numbering": 1,
   "nav_menu": {},
   "number_sections": true,
   "sideBar": true,
   "skip_h1_title": false,
   "title_cell": "Table of Contents",
   "title_sidebar": "Contents",
   "toc_cell": false,
   "toc_position": {
    "height": "calc(100% - 180px)",
    "left": "10px",
    "top": "150px",
    "width": "307.2px"
   },
   "toc_section_display": true,
   "toc_window_display": false
  }
 },
 "nbformat": 4,
 "nbformat_minor": 4
}
