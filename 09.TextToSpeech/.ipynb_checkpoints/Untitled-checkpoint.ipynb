{
 "cells": [
  {
   "cell_type": "code",
   "execution_count": 24,
   "metadata": {},
   "outputs": [],
   "source": [
    "t=\"秦兴师临周而求九鼎，周君患之，以告颜率。颜率曰：“大王勿忧，臣请东借救于齐。”颜率至齐，谓齐王曰：“夫秦之为无道也，欲兴兵临周而求九鼎，周之君臣内自画计，与秦，不若归之大国。夫存危国，美名也；得九鼎，厚宝也。愿大王图之。”齐王大悦，发师五万人，使陈臣思将，以救周，而秦兵罢。\""
   ]
  },
  {
   "cell_type": "code",
   "execution_count": 27,
   "metadata": {},
   "outputs": [],
   "source": [
    "from gtts import gTTS\n",
    "from playsound import playsound\n",
    "\n",
    "audio = 'speech12.mp3'\n",
    "language = 'zh-tw'\n",
    "\n",
    "sp= gTTS(text = t, \n",
    "        lang=language, slow=False)\n",
    "\n",
    "sp.save(audio)\n",
    "playsound(audio)"
   ]
  },
  {
   "cell_type": "markdown",
   "metadata": {},
   "source": [
    "# Chinese\n",
    "'zh-cn': 'Chinese (Mandarin/China)',\n",
    "\n",
    "'zh-tw': 'Chinese (Mandarin/Taiwan)',\n",
    "# English\n",
    "'en-us': 'English (US)',\n",
    "\n",
    "'en-ca': 'English (Canada)',\n",
    "\n",
    "'en-uk': 'English (UK)',\n",
    "\n",
    "'en-gb': 'English (UK)',\n",
    "\n",
    "'en-au': 'English (Australia)',\n",
    "\n",
    "'en-gh': 'English (Ghana)',\n",
    "\n",
    "'en-in': 'English (India)',\n",
    "\n",
    "'en-ie': 'English (Ireland)',\n",
    "\n",
    "'en-nz': 'English (New Zealand)',\n",
    "\n",
    "'en-ng': 'English (Nigeria)',\n",
    "\n",
    "'en-ph': 'English (Philippines)',\n",
    "\n",
    "'en-za': 'English (South Africa)',\n",
    "\n",
    "'en-tz': 'English (Tanzania)',\n",
    "\n",
    "# French\n",
    "'fr-ca': 'French (Canada)',\n",
    "\n",
    "'fr-fr': 'French (France)',\n",
    "\n",
    "# Portuguese\n",
    "'pt-br': 'Portuguese (Brazil)',\n",
    "\n",
    "'pt-pt': 'Portuguese (Portugal)',\n",
    "\n",
    "# Spanish\n",
    "'es-es': 'Spanish (Spain)',\n",
    "\n",
    "'es-us': 'Spanish (United States)'\n"
   ]
  },
  {
   "cell_type": "code",
   "execution_count": null,
   "metadata": {},
   "outputs": [],
   "source": []
  }
 ],
 "metadata": {
  "kernelspec": {
   "display_name": "Python 3",
   "language": "python",
   "name": "python3"
  },
  "language_info": {
   "codemirror_mode": {
    "name": "ipython",
    "version": 3
   },
   "file_extension": ".py",
   "mimetype": "text/x-python",
   "name": "python",
   "nbconvert_exporter": "python",
   "pygments_lexer": "ipython3",
   "version": "3.7.6"
  },
  "toc": {
   "base_numbering": 1,
   "nav_menu": {},
   "number_sections": true,
   "sideBar": true,
   "skip_h1_title": false,
   "title_cell": "Table of Contents",
   "title_sidebar": "Contents",
   "toc_cell": false,
   "toc_position": {},
   "toc_section_display": true,
   "toc_window_display": false
  }
 },
 "nbformat": 4,
 "nbformat_minor": 4
}
