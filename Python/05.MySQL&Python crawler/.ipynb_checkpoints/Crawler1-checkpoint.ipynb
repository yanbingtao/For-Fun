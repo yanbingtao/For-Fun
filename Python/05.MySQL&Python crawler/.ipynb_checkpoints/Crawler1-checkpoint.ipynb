{
 "cells": [
  {
   "cell_type": "markdown",
   "metadata": {},
   "source": [
    "# Library required:\n",
    "\n",
    "1. requests  # for retrive information from website\n",
    "2. BeautifulSoup"
   ]
  },
  {
   "cell_type": "markdown",
   "metadata": {},
   "source": [
    "# Installation:\n",
    "pip install requests\n",
    "\n",
    "pip install bs4\n"
   ]
  },
  {
   "cell_type": "markdown",
   "metadata": {},
   "source": [
    "# 关系型数据库\n",
    "\n",
    "## MySQL 基本操作：\n",
    "\n",
    "### 连接数据库： \n",
    "mysql -u root -p #u: user name # p: password;\n",
    "------------------------------------------------------------\n",
    "### insert into table class:\n",
    "insert into class (name)\n",
    "values('高一二班')\n",
    "OR:\n",
    "insert into class (id,name)\n",
    "values(2,'高一二班')\n",
    "\n",
    "### modify data in the table:\n",
    "update class set name = \"gaoyisanban\" where id = 2\n",
    "\n",
    "### delete data from the table:[id will continue accumulate]\n",
    "delete from class where id = 2\n",
    "\n",
    "------------------------------------------------------------\n",
    "### create database:\n",
    "create databse NAME\n",
    "\n",
    "### 指定字符集和校对及，创建数据库：\n",
    "create database Examination default charset utf8mb4 collate utf8mb4_general_ci;\n",
    "\n",
    "### delete databse:\n",
    "drop database NAME\n",
    "\n",
    "### create a table, named class, contain \"id\" & \"name\":\n",
    "CREATE TABLE class(\n",
    "\tID int(11) unsigned not null auto_increment, \n",
    "\tName varchar(80) not null,\n",
    "\tprimary key(id)\n",
    ");\n",
    "\n",
    "-----------------------------------------------------------\n",
    "### 查看数据库：\n",
    "show database_name;\n",
    "\n",
    "### choose 数据库：\n",
    "use database_name;\n",
    "\n",
    "### check tables in the databse:\n",
    "show table;\n",
    "\n",
    "### see the structure of the table:\n",
    "desc tables;\n",
    "\n",
    "### see the data in the table:\n",
    "select * from table_name;\n",
    "\n",
    "### see the data in the table with limit:\n",
    "select * from table_name limit 10;\n",
    "\n",
    "\n",
    "# 非关系型数据库：\n",
    "- Mongodb\n",
    "- redis"
   ]
  },
  {
   "cell_type": "markdown",
   "metadata": {},
   "source": [
    "# Python 操作数据库\n"
   ]
  },
  {
   "cell_type": "code",
   "execution_count": 83,
   "metadata": {},
   "outputs": [],
   "source": [
    "import pymysql"
   ]
  },
  {
   "cell_type": "code",
   "execution_count": 84,
   "metadata": {},
   "outputs": [],
   "source": [
    "#Connect to database\n",
    "db = pymysql.connect(host='localhost', user='root',password='ybt930426',database='examination',charset='utf8mb4')"
   ]
  },
  {
   "cell_type": "code",
   "execution_count": null,
   "metadata": {},
   "outputs": [],
   "source": [
    "#Cursor\n",
    "cursor=db.cursor()"
   ]
  },
  {
   "cell_type": "code",
   "execution_count": 92,
   "metadata": {},
   "outputs": [
    {
     "name": "stderr",
     "output_type": "stream",
     "text": [
      "C:\\Users\\yanbi\\anaconda3\\lib\\site-packages\\pymysql\\cursors.py:170: Warning: (1051, \"Unknown table 'examination.employee'\")\n",
      "  result = self._query(query)\n"
     ]
    }
   ],
   "source": [
    "# create database \n",
    "# https://www.runoob.com/python3/python3-mysql.html\n",
    "import pymysql\n",
    " \n",
    "# 打开数据库连接\n",
    "db = pymysql.connect(host='localhost', user='root',password='ybt930426',database='examination',charset='utf8mb4')\n",
    " \n",
    "# 使用 cursor() 方法创建一个游标对象 cursor\n",
    "cursor = db.cursor()\n",
    " \n",
    "# 使用 execute() 方法执行 SQL，如果表存在则删除\n",
    "cursor.execute(\"DROP TABLE IF EXISTS EMPLOYEE\")\n",
    " \n",
    "# 使用预处理语句创建表\n",
    "sql = \"\"\"CREATE TABLE EMPLOYEE (\n",
    "         FIRST_NAME  CHAR(20) NOT NULL,\n",
    "         LAST_NAME  CHAR(20),\n",
    "         AGE INT,  \n",
    "         SEX CHAR(1),\n",
    "         INCOME FLOAT )\"\"\"\n",
    " \n",
    "cursor.execute(sql)\n",
    " \n",
    "# 关闭数据库连接\n",
    "db.close()"
   ]
  },
  {
   "cell_type": "code",
   "execution_count": 94,
   "metadata": {},
   "outputs": [],
   "source": [
    "# insert data to database \n",
    "# https://www.runoob.com/python3/python3-mysql.html\n",
    "\n",
    "import pymysql\n",
    " \n",
    "# 打开数据库连接\n",
    "db = pymysql.connect(host='localhost', user='root',password='ybt930426',database='examination',charset='utf8mb4')\n",
    " \n",
    "# 使用cursor()方法获取操作游标 \n",
    "cursor = db.cursor()\n",
    " \n",
    "# SQL 插入语句\n",
    "sql = \"\"\"INSERT INTO EMPLOYEE(FIRST_NAME,\n",
    "         LAST_NAME, AGE, SEX, INCOME)\n",
    "         VALUES ('Mac', 'Mohan', 20, 'M', 2000)\"\"\"\n",
    "try:\n",
    "   # 执行sql语句\n",
    "   cursor.execute(sql)\n",
    "   # 提交到数据库执行\n",
    "   db.commit()\n",
    "except:\n",
    "   # 如果发生错误则回滚\n",
    "   db.rollback()\n",
    " \n",
    "# 关闭数据库连接\n",
    "db.close()"
   ]
  },
  {
   "cell_type": "code",
   "execution_count": 95,
   "metadata": {},
   "outputs": [
    {
     "name": "stdout",
     "output_type": "stream",
     "text": [
      "fname=Mac,lname=Mohan,age=20,sex=M,income=2000.0\n"
     ]
    }
   ],
   "source": [
    "# query data to database \n",
    "# https://www.runoob.com/python3/python3-mysql.html\n",
    "\n",
    "import pymysql\n",
    " \n",
    "# 打开数据库连接\n",
    "db = pymysql.connect(host='localhost', user='root',password='ybt930426',database='examination',charset='utf8mb4')\n",
    " \n",
    "# 使用cursor()方法获取操作游标 \n",
    "cursor = db.cursor()\n",
    " \n",
    "# SQL 查询语句\n",
    "sql = \"SELECT * FROM EMPLOYEE \\\n",
    "       WHERE INCOME > %s\" % (1000)\n",
    "try:\n",
    "   # 执行SQL语句\n",
    "   cursor.execute(sql)\n",
    "   # 获取所有记录列表\n",
    "   results = cursor.fetchall()\n",
    "   for row in results:\n",
    "      fname = row[0]\n",
    "      lname = row[1]\n",
    "      age = row[2]\n",
    "      sex = row[3]\n",
    "      income = row[4]\n",
    "       # 打印结果\n",
    "      print (\"fname=%s,lname=%s,age=%s,sex=%s,income=%s\" % \\\n",
    "             (fname, lname, age, sex, income ))\n",
    "except:\n",
    "   print (\"Error: unable to fetch data\")\n",
    " \n",
    "# 关闭数据库连接\n",
    "db.close()"
   ]
  },
  {
   "cell_type": "code",
   "execution_count": 96,
   "metadata": {},
   "outputs": [],
   "source": [
    "# update data to database \n",
    "# https://www.runoob.com/python3/python3-mysql.html\n",
    "import pymysql\n",
    " \n",
    "# 打开数据库连接\n",
    "db = pymysql.connect(host='localhost', user='root',password='ybt930426',database='examination',charset='utf8mb4')\n",
    "\n",
    "# 使用cursor()方法获取操作游标 \n",
    "cursor = db.cursor()\n",
    " \n",
    "# SQL 更新语句\n",
    "sql = \"UPDATE EMPLOYEE SET AGE = AGE + 1 WHERE SEX = '%c'\" % ('M')\n",
    "try:\n",
    "   # 执行SQL语句\n",
    "   cursor.execute(sql)\n",
    "   # 提交到数据库执行\n",
    "   db.commit()\n",
    "except:\n",
    "   # 发生错误时回滚\n",
    "   db.rollback()\n",
    " \n",
    "# 关闭数据库连接\n",
    "db.close()"
   ]
  },
  {
   "cell_type": "code",
   "execution_count": 97,
   "metadata": {},
   "outputs": [],
   "source": [
    "# delete data to database \n",
    "# https://www.runoob.com/python3/python3-mysql.html\n",
    "\n",
    "import pymysql\n",
    " \n",
    "# 打开数据库连接\n",
    "db = pymysql.connect(host='localhost', user='root',password='ybt930426',database='examination',charset='utf8mb4')\n",
    " \n",
    "# 使用cursor()方法获取操作游标 \n",
    "cursor = db.cursor()\n",
    " \n",
    "# SQL 删除语句\n",
    "sql = \"DELETE FROM EMPLOYEE WHERE AGE > %s\" % (20)\n",
    "try:\n",
    "   # 执行SQL语句\n",
    "   cursor.execute(sql)\n",
    "   # 提交修改\n",
    "   db.commit()\n",
    "except:\n",
    "   # 发生错误时回滚\n",
    "   db.rollback()\n",
    " \n",
    "# 关闭连接\n",
    "db.close()"
   ]
  },
  {
   "cell_type": "markdown",
   "metadata": {},
   "source": [
    "# json"
   ]
  },
  {
   "cell_type": "code",
   "execution_count": 5,
   "metadata": {},
   "outputs": [
    {
     "data": {
      "text/plain": [
       "{'a': 1, 'b': 2, 'c': 3}"
      ]
     },
     "execution_count": 5,
     "metadata": {},
     "output_type": "execute_result"
    }
   ],
   "source": [
    "#json\n",
    "\n",
    "import json\n",
    "data1='{\"a\":1, \"b\":2, \"c\":3}'\n",
    "j_data=json.loads(data1)\n",
    "type(j_data)  # return \"dict\"\n",
    "j_data"
   ]
  },
  {
   "cell_type": "markdown",
   "metadata": {},
   "source": [
    "# Python crawler"
   ]
  },
  {
   "cell_type": "code",
   "execution_count": 6,
   "metadata": {},
   "outputs": [],
   "source": [
    "import requests\n",
    "from bs4 import BeautifulSoup"
   ]
  },
  {
   "cell_type": "code",
   "execution_count": 7,
   "metadata": {},
   "outputs": [],
   "source": [
    "def get_page(url):\n",
    "    responce = requests.get(url)\n",
    "    soup = BeautifulSoup(responce.text, 'lxml')\n",
    "    return soup"
   ]
  },
  {
   "cell_type": "code",
   "execution_count": 8,
   "metadata": {},
   "outputs": [],
   "source": [
    "def get_links(link_url):\n",
    "    soup = get_page(link_url)\n",
    "    # find the elements we want based on soup\n",
    "    links_div = soup.find_all('div', class_=\"content__list--item--main\")\n",
    "    links = [link_url[0:22] + div.a.get('href') for div in links_div]\n",
    "    return links"
   ]
  },
  {
   "cell_type": "code",
   "execution_count": 9,
   "metadata": {},
   "outputs": [
    {
     "data": {
      "text/plain": [
       "['https://bj.lianjia.com/zufang/BJ2549081322589265920.html',\n",
       " 'https://bj.lianjia.com/zufang/BJ2547093685166940160.html',\n",
       " 'https://bj.lianjia.com/zufang/BJ2548421843480477696.html',\n",
       " 'https://bj.lianjia.com/zufang/BJ2548312076959891456.html',\n",
       " 'https://bj.lianjia.com/zufang/BJ2549187822695759872.html',\n",
       " 'https://bj.lianjia.com/zufang/BJ2548333786534789120.html',\n",
       " 'https://bj.lianjia.com/zufang/BJ2549162494677753856.html',\n",
       " 'https://bj.lianjia.com/zufang/BJ2547642562332860416.html',\n",
       " 'https://bj.lianjia.com/zufang/BJ2548313019755544576.html',\n",
       " 'https://bj.lianjia.com/zufang/BJ2549158218467115008.html',\n",
       " 'https://bj.lianjia.com/zufang/BJ2547873564372516864.html',\n",
       " 'https://bj.lianjia.com/zufang/BJ2548351695692234752.html',\n",
       " 'https://bj.lianjia.com/zufang/BJ2547636078727135232.html',\n",
       " 'https://bj.lianjia.com/zufang/BJ2547622341627101184.html',\n",
       " 'https://bj.lianjia.com/zufang/BJ2548353114969481216.html',\n",
       " 'https://bj.lianjia.com/zufang/BJ2547780482918260736.html',\n",
       " 'https://bj.lianjia.com/zufang/BJ2549211590901899264.html',\n",
       " 'https://bj.lianjia.com/zufang/BJ2548358167461363712.html',\n",
       " 'https://bj.lianjia.com/zufang/BJ2547609541424988160.html',\n",
       " 'https://bj.lianjia.com/zufang/BJ2548488159973613568.html',\n",
       " 'https://bj.lianjia.com/zufang/BJ2544840473743196160.html',\n",
       " 'https://bj.lianjia.com/zufang/BJ2544803803035598848.html',\n",
       " 'https://bj.lianjia.com/zufang/BJ2544939353931784192.html',\n",
       " 'https://bj.lianjia.com/zufang/BJ2545440756525973504.html',\n",
       " 'https://bj.lianjia.com/zufang/BJ2547634269203996672.html',\n",
       " 'https://bj.lianjia.com/zufang/BJ2548524375347298304.html',\n",
       " 'https://bj.lianjia.com/zufang/BJ2549115793392533504.html',\n",
       " 'https://bj.lianjia.com/zufang/BJ2549062528332472320.html',\n",
       " 'https://bj.lianjia.com/zufang/BJ2534683238711173120.html',\n",
       " 'https://bj.lianjia.com/zufang/BJ2539301805947355136.html']"
      ]
     },
     "execution_count": 9,
     "metadata": {},
     "output_type": "execute_result"
    }
   ],
   "source": [
    "# test\n",
    "url = 'https://bj.lianjia.com/zufang/'\n",
    "get_links(url)"
   ]
  },
  {
   "cell_type": "code",
   "execution_count": 48,
   "metadata": {},
   "outputs": [],
   "source": [
    "def get_house_info(house_url):\n",
    "    soup = get_page(house_url)\n",
    "    price = soup.find('div', class_='content__aside--title').find('span').text\n",
    "    unit = soup.find('div', class_='content__aside--title').text[len(price)+1:len(price)+4]\n",
    "    house_info=soup.find_all('li', class_=\"fl oneline\")\n",
    "    house_info=soup.find_all('li', class_=\"fl oneline\")\n",
    "    area=house_info[1].text[3:]\n",
    "    info = {\n",
    "        'Price': price,\n",
    "        'Unit': unit,\n",
    "        'Area': area\n",
    "    }\n",
    "    return info\n",
    "\n",
    "def saveData(datalist):\n",
    "    print(\"save...\")\n",
    "    data = []\n",
    "    for k in range(0, len(datalist)):\n",
    "        data.append(datalist[k])\n",
    "        \n",
    "    data=currentRow.split(\",\")\n",
    "    df = pd.DataFrame(\n",
    "        {'Price': data[0], 'Unit': data[1], 'Area': data[2]})\n",
    "    df.to_csv('House.csv', index=False, sep=',')"
   ]
  },
  {
   "cell_type": "code",
   "execution_count": 50,
   "metadata": {},
   "outputs": [
    {
     "data": {
      "text/plain": [
       "3"
      ]
     },
     "execution_count": 50,
     "metadata": {},
     "output_type": "execute_result"
    }
   ],
   "source": [
    "# test\n",
    "url=\"https://bj.lianjia.com/zufang/BJ2549081322589265920.html\"\n",
    "\n",
    "len(get_house_info(url))\n"
   ]
  },
  {
   "cell_type": "code",
   "execution_count": null,
   "metadata": {},
   "outputs": [],
   "source": [
    "# put all together\n",
    "\n",
    "links = get_links ('https://bj.lianjia.com/zufang/')\n",
    "for link in links:\n",
    "    time.sleep(2)\n",
    "    house = get_house_info(link)\n",
    "    print(house, end='\\r')\n",
    "    # inside to database"
   ]
  }
 ],
 "metadata": {
  "kernelspec": {
   "display_name": "Python 3",
   "language": "python",
   "name": "python3"
  },
  "language_info": {
   "codemirror_mode": {
    "name": "ipython",
    "version": 3
   },
   "file_extension": ".py",
   "mimetype": "text/x-python",
   "name": "python",
   "nbconvert_exporter": "python",
   "pygments_lexer": "ipython3",
   "version": "3.7.6"
  },
  "toc": {
   "base_numbering": 1,
   "nav_menu": {},
   "number_sections": true,
   "sideBar": true,
   "skip_h1_title": false,
   "title_cell": "Table of Contents",
   "title_sidebar": "Contents",
   "toc_cell": false,
   "toc_position": {
    "height": "calc(100% - 180px)",
    "left": "10px",
    "top": "150px",
    "width": "307.2px"
   },
   "toc_section_display": true,
   "toc_window_display": false
  }
 },
 "nbformat": 4,
 "nbformat_minor": 4
}
