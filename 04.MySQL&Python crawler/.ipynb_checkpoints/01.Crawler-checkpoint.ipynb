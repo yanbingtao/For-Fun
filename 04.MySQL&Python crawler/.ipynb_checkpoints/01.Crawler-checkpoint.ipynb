{
 "cells": [
  {
   "cell_type": "markdown",
   "metadata": {},
   "source": [
    "# Library required:\n",
    "\n",
    "1. requests  # for retrive information from website\n",
    "2. BeautifulSoup"
   ]
  },
  {
   "cell_type": "markdown",
   "metadata": {},
   "source": [
    "# Installation:\n",
    "pip install requests\n",
    "\n",
    "pip install bs4\n"
   ]
  },
  {
   "cell_type": "markdown",
   "metadata": {},
   "source": [
    "# Python crawler"
   ]
  },
  {
   "cell_type": "code",
   "execution_count": 1,
   "metadata": {},
   "outputs": [],
   "source": [
    "import requests\n",
    "from bs4 import BeautifulSoup\n",
    "import pymysql\n",
    " import time"
   ]
  },
  {
   "cell_type": "code",
   "execution_count": 2,
   "metadata": {},
   "outputs": [],
   "source": [
    "def get_page(url):\n",
    "    responce = requests.get(url)\n",
    "    soup = BeautifulSoup(responce.text, 'lxml')\n",
    "    return soup"
   ]
  },
  {
   "cell_type": "code",
   "execution_count": 3,
   "metadata": {},
   "outputs": [],
   "source": [
    "def get_links(link_url):\n",
    "    soup = get_page(link_url)\n",
    "    # find the elements we want based on soup\n",
    "    links_div = soup.find_all('div', class_=\"content__list--item--main\")\n",
    "    links = [link_url[0:22] + div.a.get('href') for div in links_div]\n",
    "    return links"
   ]
  },
  {
   "cell_type": "code",
   "execution_count": 4,
   "metadata": {},
   "outputs": [],
   "source": [
    "def get_house_info(house_url):\n",
    "    soup = get_page(house_url)\n",
    "    price = soup.find('div', class_='content__aside--title').find('span').text\n",
    "    unit = soup.find('div', class_='content__aside--title').text[len(price)+1:len(price)+4]\n",
    "    house_info=soup.find_all('li', class_=\"fl oneline\")\n",
    "    house_info=soup.find_all('li', class_=\"fl oneline\")\n",
    "    area=house_info[1].text[3:]\n",
    "    info = {\n",
    "        'Price': price,\n",
    "        'Unit': unit,\n",
    "        'Area': area\n",
    "    }\n",
    "    return info"
   ]
  },
  {
   "cell_type": "code",
   "execution_count": 12,
   "metadata": {},
   "outputs": [],
   "source": [
    "def get_db():\n",
    "    return pymysql.connect(host='localhost', user='root',password='ybt930426',database='house',charset='utf8mb4')\n",
    "\n",
    "def insert(db, house):\n",
    "    values = \"'{}',\" * 2 +\"'{}'\"\n",
    "    sql_values = values.format(house['Price'], house['Unit'],house['Area'])\n",
    "    sql=\"\"\"\n",
    "        insert into house_info(price, unit, area) values({})\n",
    "    \"\"\".format(sql_values)\n",
    "    \n",
    "    print(sql)\n",
    "    \n",
    "    try:\n",
    "       cursor=db.cursor()\n",
    "       # 执行sql语句\n",
    "       cursor.execute(sql)\n",
    "       # 提交到数据库执行\n",
    "       db.commit()\n",
    "    except:\n",
    "       # 如果发生错误则回滚\n",
    "       db.rollback()"
   ]
  },
  {
   "cell_type": "code",
   "execution_count": 13,
   "metadata": {},
   "outputs": [
    {
     "name": "stdout",
     "output_type": "stream",
     "text": [
      "Extracted one house info successfully!!\n",
      "\n",
      "        insert into house_info(price, unit, area) values('4300','元/月','65㎡')\n",
      "    \n",
      "Extracted one house info successfully!!\n",
      "\n",
      "        insert into house_info(price, unit, area) values('3000','元/月','97㎡')\n",
      "    \n",
      "Extracted one house info successfully!!\n",
      "\n",
      "        insert into house_info(price, unit, area) values('2500','元/月','72㎡')\n",
      "    \n",
      "Extracted one house info successfully!!\n",
      "\n",
      "        insert into house_info(price, unit, area) values('4200','元/月','40㎡')\n",
      "    \n",
      "Extracted one house info successfully!!\n",
      "\n",
      "        insert into house_info(price, unit, area) values('2500','元/月','70㎡')\n",
      "    \n",
      "Extracted one house info successfully!!\n",
      "\n",
      "        insert into house_info(price, unit, area) values('3200','元/月','62㎡')\n",
      "    \n",
      "Extracted one house info successfully!!\n",
      "\n",
      "        insert into house_info(price, unit, area) values('2500','元/月','61㎡')\n",
      "    \n",
      "Extracted one house info successfully!!\n",
      "\n",
      "        insert into house_info(price, unit, area) values('2800','元/月','91㎡')\n",
      "    \n",
      "Extracted one house info successfully!!\n",
      "\n",
      "        insert into house_info(price, unit, area) values('3000','元/月','70㎡')\n",
      "    \n",
      "Extracted one house info successfully!!\n",
      "\n",
      "        insert into house_info(price, unit, area) values('4500','元/月','61㎡')\n",
      "    \n",
      "Extracted one house info successfully!!\n",
      "\n",
      "        insert into house_info(price, unit, area) values('2800','元/月','62㎡')\n",
      "    \n",
      "Extracted one house info successfully!!\n",
      "\n",
      "        insert into house_info(price, unit, area) values('2600','元/月','66㎡')\n",
      "    \n",
      "Extracted one house info successfully!!\n",
      "\n",
      "        insert into house_info(price, unit, area) values('3600','元/月','77㎡')\n",
      "    \n",
      "Extracted one house info successfully!!\n",
      "\n",
      "        insert into house_info(price, unit, area) values('4800','元/月','38㎡')\n",
      "    \n",
      "Extracted one house info successfully!!\n",
      "\n",
      "        insert into house_info(price, unit, area) values('2400','元/月','50㎡')\n",
      "    \n",
      "Extracted one house info successfully!!\n",
      "\n",
      "        insert into house_info(price, unit, area) values('4200','元/月','38㎡')\n",
      "    \n",
      "Extracted one house info successfully!!\n",
      "\n",
      "        insert into house_info(price, unit, area) values('4650','元/月','43㎡')\n",
      "    \n",
      "Extracted one house info successfully!!\n",
      "\n",
      "        insert into house_info(price, unit, area) values('3900','元/月','22㎡')\n",
      "    \n",
      "Extracted one house info successfully!!\n",
      "\n",
      "        insert into house_info(price, unit, area) values('4500','元/月','49㎡')\n",
      "    \n",
      "Extracted one house info successfully!!\n",
      "\n",
      "        insert into house_info(price, unit, area) values('2900','元/月','72㎡')\n",
      "    \n",
      "Extracted one house info successfully!!\n",
      "\n",
      "        insert into house_info(price, unit, area) values('2800','元/月','55㎡')\n",
      "    \n",
      "Extracted one house info successfully!!\n",
      "\n",
      "        insert into house_info(price, unit, area) values('4300','元/月','83㎡')\n",
      "    \n",
      "Extracted one house info successfully!!\n",
      "\n",
      "        insert into house_info(price, unit, area) values('3200','元/月','57㎡')\n",
      "    \n",
      "Extracted one house info successfully!!\n",
      "\n",
      "        insert into house_info(price, unit, area) values('2900','元/月','61㎡')\n",
      "    \n",
      "Extracted one house info successfully!!\n",
      "\n",
      "        insert into house_info(price, unit, area) values('2800','元/月','78㎡')\n",
      "    \n",
      "Extracted one house info successfully!!\n",
      "\n",
      "        insert into house_info(price, unit, area) values('3000','元/月','48㎡')\n",
      "    \n",
      "Extracted one house info successfully!!\n",
      "\n",
      "        insert into house_info(price, unit, area) values('2000','元/月','46㎡')\n",
      "    \n",
      "Extracted one house info successfully!!\n",
      "\n",
      "        insert into house_info(price, unit, area) values('4500','元/月','48㎡')\n",
      "    \n",
      "Extracted one house info successfully!!\n",
      "\n",
      "        insert into house_info(price, unit, area) values('4500','元/月','89㎡')\n",
      "    \n",
      "Extracted one house info successfully!!\n",
      "\n",
      "        insert into house_info(price, unit, area) values('3100','元/月','65㎡')\n",
      "    \n"
     ]
    }
   ],
   "source": [
    "# setting={host='localhost', user='root',password='ybt930426',database='house',charset='utf8mb4'}\n",
    "db= get_db()\n",
    "links = get_links('https://bj.lianjia.com/zufang/abs')\n",
    "for link in links:\n",
    "    time.sleep(2)\n",
    "    print(\"Extracted one house info successfully!!\")\n",
    "    house= get_house_info(link)\n",
    "    insert(db, house)\n",
    "    "
   ]
  },
  {
   "cell_type": "code",
   "execution_count": null,
   "metadata": {},
   "outputs": [],
   "source": [
    "# test\n",
    "url = 'https://bj.lianjia.com/zufang/'\n",
    "get_links(url)"
   ]
  },
  {
   "cell_type": "code",
   "execution_count": null,
   "metadata": {},
   "outputs": [],
   "source": [
    "# test\n",
    "url=\"https://bj.lianjia.com/zufang/BJ2549081322589265920.html\"\n",
    "len(get_house_info(url))"
   ]
  }
 ],
 "metadata": {
  "kernelspec": {
   "display_name": "Python 3",
   "language": "python",
   "name": "python3"
  },
  "language_info": {
   "codemirror_mode": {
    "name": "ipython",
    "version": 3
   },
   "file_extension": ".py",
   "mimetype": "text/x-python",
   "name": "python",
   "nbconvert_exporter": "python",
   "pygments_lexer": "ipython3",
   "version": "3.7.6"
  },
  "toc": {
   "base_numbering": 1,
   "nav_menu": {},
   "number_sections": true,
   "sideBar": true,
   "skip_h1_title": false,
   "title_cell": "Table of Contents",
   "title_sidebar": "Contents",
   "toc_cell": false,
   "toc_position": {
    "height": "calc(100% - 180px)",
    "left": "10px",
    "top": "150px",
    "width": "307.2px"
   },
   "toc_section_display": true,
   "toc_window_display": false
  }
 },
 "nbformat": 4,
 "nbformat_minor": 4
}
